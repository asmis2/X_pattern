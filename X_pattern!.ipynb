{
 "cells": [
  {
   "cell_type": "code",
   "execution_count": 1,
   "metadata": {},
   "outputs": [
    {
     "name": "stdout",
     "output_type": "stream",
     "text": [
      "7\n",
      "1     1\n",
      " 2   2\n",
      "  3 3\n",
      "   4\n",
      "  3 3  \n",
      " 2   2 \n",
      "1     1\n"
     ]
    }
   ],
   "source": [
    "n = int(input())\n",
    "n1 =(n+1)//2\n",
    "n2 = n//2\n",
    "i = 1\n",
    "start = 1\n",
    "end = n\n",
    "\n",
    "while(i<=n1):\n",
    "    j = 1\n",
    "    p = i\n",
    "    while(j<=end):\n",
    "        if j == start or j == end :\n",
    "            print(p,end='')\n",
    "        else :\n",
    "            print(' ',end='')\n",
    "            \n",
    "        j += 1\n",
    "    p += 1    \n",
    "    start += 1\n",
    "    end -= 1\n",
    "    i += 1\n",
    "    print()  \n",
    "    \n",
    "start = 1\n",
    "end = n\n",
    "mid = (start + end)//2  \n",
    "l = mid - 1\n",
    "r = mid + 1\n",
    "k = 1    \n",
    "while(k<=n2):\n",
    "    x = 1\n",
    "    h = n2 - k + 1\n",
    "    while(x<=end):\n",
    "        if x == l or x == r:\n",
    "            print(h,end='')\n",
    "        else :\n",
    "            print(' ',end='')\n",
    "        x += 1    \n",
    "    h += 1\n",
    "    l -= 1\n",
    "    r += 1\n",
    "    k += 1\n",
    "    print()\n"
   ]
  },
  {
   "cell_type": "code",
   "execution_count": null,
   "metadata": {},
   "outputs": [],
   "source": []
  }
 ],
 "metadata": {
  "kernelspec": {
   "display_name": "Python 3",
   "language": "python",
   "name": "python3"
  },
  "language_info": {
   "codemirror_mode": {
    "name": "ipython",
    "version": 3
   },
   "file_extension": ".py",
   "mimetype": "text/x-python",
   "name": "python",
   "nbconvert_exporter": "python",
   "pygments_lexer": "ipython3",
   "version": "3.7.9"
  }
 },
 "nbformat": 4,
 "nbformat_minor": 4
}
